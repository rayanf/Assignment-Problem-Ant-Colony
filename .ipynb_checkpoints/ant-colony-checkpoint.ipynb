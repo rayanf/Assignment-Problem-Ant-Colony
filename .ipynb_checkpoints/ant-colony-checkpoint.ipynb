{
 "cells": [
  {
   "cell_type": "code",
   "execution_count": 62,
   "id": "virtual-closing",
   "metadata": {
    "ExecuteTime": {
     "end_time": "2021-11-30T15:38:00.126654Z",
     "start_time": "2021-11-30T15:38:00.123649Z"
    }
   },
   "outputs": [],
   "source": [
    "import numpy as np\n",
    "import math\n",
    "import random"
   ]
  },
  {
   "cell_type": "code",
   "execution_count": 2,
   "id": "manual-carbon",
   "metadata": {
    "ExecuteTime": {
     "end_time": "2021-11-30T13:47:00.362588Z",
     "start_time": "2021-11-30T13:47:00.352577Z"
    }
   },
   "outputs": [],
   "source": [
    "f = open(\"job1.assign\", \"r\")\n",
    "txt = f.readlines()"
   ]
  },
  {
   "cell_type": "code",
   "execution_count": 3,
   "id": "educational-gilbert",
   "metadata": {
    "ExecuteTime": {
     "end_time": "2021-11-30T13:47:02.365691Z",
     "start_time": "2021-11-30T13:47:02.345761Z"
    }
   },
   "outputs": [
    {
     "data": {
      "text/plain": [
       "['5 10 3  4\\n', '8 7  49 19\\n', '6 10 9  28\\n', '6 10 39 289\\n']"
      ]
     },
     "execution_count": 3,
     "metadata": {},
     "output_type": "execute_result"
    }
   ],
   "source": [
    "txt"
   ]
  },
  {
   "cell_type": "code",
   "execution_count": 52,
   "id": "isolated-cream",
   "metadata": {
    "ExecuteTime": {
     "end_time": "2021-11-30T14:05:13.052571Z",
     "start_time": "2021-11-30T14:05:13.033459Z"
    }
   },
   "outputs": [],
   "source": [
    "mtrx = []\n",
    "for i,line in enumerate(txt):\n",
    "    mtrx.append(line.split(' '))\n",
    "    for j,num in enumerate(mtrx[i]):\n",
    "        if num == '':\n",
    "            mtrx[i].pop(j)\n",
    "\n",
    "for i in range(len(mtrx)):\n",
    "    for j in range(len(mtrx[i])):\n",
    "        mtrx[i][j] = int(mtrx[i][j])\n",
    "matrix = np.asarray(mtrx)"
   ]
  },
  {
   "cell_type": "code",
   "execution_count": 53,
   "id": "suburban-atlantic",
   "metadata": {
    "ExecuteTime": {
     "end_time": "2021-11-30T14:05:13.286778Z",
     "start_time": "2021-11-30T14:05:13.280771Z"
    }
   },
   "outputs": [
    {
     "data": {
      "text/plain": [
       "array([[  5,  10,   3,   4],\n",
       "       [  8,   7,  49,  19],\n",
       "       [  6,  10,   9,  28],\n",
       "       [  6,  10,  39, 289]])"
      ]
     },
     "execution_count": 53,
     "metadata": {},
     "output_type": "execute_result"
    }
   ],
   "source": [
    "matrix"
   ]
  },
  {
   "cell_type": "code",
   "execution_count": 59,
   "id": "independent-difficulty",
   "metadata": {
    "ExecuteTime": {
     "end_time": "2021-11-30T14:22:11.740400Z",
     "start_time": "2021-11-30T14:22:11.726977Z"
    }
   },
   "outputs": [],
   "source": [
    "class Ant:\n",
    "    def init(self):\n",
    "        self.path = []\n",
    "        self.cost = 0\n",
    "    \n",
    "    def reset(self):\n",
    "        self.path = []\n",
    "        self.cost = 0\n",
    "    "
   ]
  },
  {
   "cell_type": "code",
   "execution_count": 65,
   "id": "gothic-bangladesh",
   "metadata": {
    "ExecuteTime": {
     "end_time": "2021-11-30T15:58:05.757446Z",
     "start_time": "2021-11-30T15:58:05.746476Z"
    }
   },
   "outputs": [],
   "source": [
    "class colony:\n",
    "    def init(self, ant_num, matrix , base_formun, T_SA, SA_rate, evaporate_rate, beta, p_local, gamma_Qlearning, alpha):\n",
    "        self.n = len(matrix)\n",
    "        self.matrix = matrix\n",
    "        self.ant_num = ant_num\n",
    "        self.T = T_sa\n",
    "        self.evaporate_rate = evaporate_rate\n",
    "        self.beta = beta\n",
    "        self.alpha = alpha\n",
    "        self.p_local = p_local\n",
    "        self.gamma_Qlearning = gamma_Qlearning\n",
    "        self.base_formun = base_formun\n",
    "        \n",
    "        self.formun = [[base_formun for i in range(self.n)] for j in range(self.n)]\n",
    "\n",
    "        self.ants = []\n",
    "        for i in range(ant_num):\n",
    "            ant = Ant()\n",
    "            self.ants.append(ant)\n",
    "        \n",
    "        \n",
    "        def training(self):\n",
    "            \n",
    "        \n",
    "        def spread_ants(self):\n",
    "            for ant in self.ants():\n",
    "                ant.visited.append(random.choice(range(n)))\n",
    "                \n",
    "        def evaporate(self,i,j):\n",
    "            self.formun[i][j] *= self.evaporate_rate\n",
    "            \n",
    "        def local_update_formun(self,i,j):\n",
    "            delta = 0\n",
    "            for z in range(self.n):\n",
    "                if z != j and z != i:\n",
    "                    temp = self.gamma_Qlearning * self.fermun[j,z]\n",
    "                    if temp > delta:\n",
    "                        delta = temp\n",
    "    \n",
    "            self.fermun[i][j] = ((1-self.p)* self.fermun[i][j]) + (self.p*delta)\n",
    "        \n",
    "        def find_best_path(self):\n",
    "            optima_path = []\n",
    "            best_cost = math.inf\n",
    "            for ant in ants:\n",
    "                if ant.cost < best_cost:\n",
    "                    best_cost = ant_cost\n",
    "                    optima_path = ant.path\n",
    "            \n",
    "            return optima_path, best_cost\n",
    "                    \n",
    "        def global_update_formun(self):\n",
    "            path, cost = self.find_best_path()\n",
    "            for i in range((self.n)-1):\n",
    "                self.fermun[i][i+1] = (self.alpha*(cost**-1))\n",
    "                \n",
    "                \n",
    "        def select_next_node(self,ant):\n",
    "            q = random.randint(0,1)\n",
    "            if q > T:\n",
    "                maxx = 0\n",
    "                selected = None\n",
    "                for node in range(self.n):\n",
    "                    if not node in ant.path:\n",
    "                        rule = self.fermun(ant.path[-1],ant.path[node]) * ((1/self.matrix[len(ant.path)][node])**beta)\n",
    "                        if rule > maxx:\n",
    "                            maxx = rule\n",
    "                            selected = node\n",
    "                return node\n",
    "            \n",
    "            else:\n",
    "                prob = [0 for i in range(self.n)]\n",
    "                summ = 0\n",
    "                for node in range(self.n):\n",
    "                    if not node in ant.path:\n",
    "                        summ += self.fermun(ant.path[-1],ant.path[node]) * ((1/self.matrix[len(ant.path)][node])**self.beta)\n",
    "                \n",
    "                for node in range(self.n):\n",
    "                    if not node in ant.path:\n",
    "                        prob[node] = (self.fermun(ant.path[-1],ant.path[node]) * ((1/self.matrix[len(ant.path)][node])**self.beta))/summ\n",
    "                return random.choices(list(range(self.n)), prob, k=1)\n",
    "\n",
    "            def move(self,ant):\n",
    "                next_node = self.select_next_node(ant)\n",
    "                ant.cost += self.matrix(len(ant),next_node)\n",
    "                self.local_update(ant.path[-1],next_node)\n",
    "                ant.path.append(next_node)\n",
    "                \n",
    "    \n",
    "                "
   ]
  },
  {
   "cell_type": "code",
   "execution_count": null,
   "id": "flexible-admission",
   "metadata": {
    "ExecuteTime": {
     "end_time": "2021-11-30T15:50:53.341936Z",
     "start_time": "2021-11-30T15:50:53.330976Z"
    }
   },
   "outputs": [],
   "source": []
  },
  {
   "cell_type": "code",
   "execution_count": null,
   "id": "indie-tribune",
   "metadata": {},
   "outputs": [],
   "source": []
  }
 ],
 "metadata": {
  "kernelspec": {
   "display_name": "Python 3",
   "language": "python",
   "name": "python3"
  },
  "language_info": {
   "codemirror_mode": {
    "name": "ipython",
    "version": 3
   },
   "file_extension": ".py",
   "mimetype": "text/x-python",
   "name": "python",
   "nbconvert_exporter": "python",
   "pygments_lexer": "ipython3",
   "version": "3.8.6"
  },
  "toc": {
   "base_numbering": 1,
   "nav_menu": {},
   "number_sections": true,
   "sideBar": true,
   "skip_h1_title": false,
   "title_cell": "Table of Contents",
   "title_sidebar": "Contents",
   "toc_cell": false,
   "toc_position": {},
   "toc_section_display": true,
   "toc_window_display": false
  },
  "varInspector": {
   "cols": {
    "lenName": 16,
    "lenType": 16,
    "lenVar": 40
   },
   "kernels_config": {
    "python": {
     "delete_cmd_postfix": "",
     "delete_cmd_prefix": "del ",
     "library": "var_list.py",
     "varRefreshCmd": "print(var_dic_list())"
    },
    "r": {
     "delete_cmd_postfix": ") ",
     "delete_cmd_prefix": "rm(",
     "library": "var_list.r",
     "varRefreshCmd": "cat(var_dic_list()) "
    }
   },
   "types_to_exclude": [
    "module",
    "function",
    "builtin_function_or_method",
    "instance",
    "_Feature"
   ],
   "window_display": false
  }
 },
 "nbformat": 4,
 "nbformat_minor": 5
}
