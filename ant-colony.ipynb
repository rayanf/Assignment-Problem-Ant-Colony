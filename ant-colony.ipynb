{
 "cells": [
  {
   "cell_type": "code",
   "execution_count": 1,
   "id": "mental-operator",
   "metadata": {
    "ExecuteTime": {
     "end_time": "2021-11-30T13:41:52.278973Z",
     "start_time": "2021-11-30T13:41:52.267005Z"
    }
   },
   "outputs": [],
   "source": [
    "import numpy as np\n",
    "import math"
   ]
  },
  {
   "cell_type": "code",
   "execution_count": 2,
   "id": "eligible-cyprus",
   "metadata": {
    "ExecuteTime": {
     "end_time": "2021-11-30T13:47:00.362588Z",
     "start_time": "2021-11-30T13:47:00.352577Z"
    }
   },
   "outputs": [],
   "source": [
    "f = open(\"job1.assign\", \"r\")\n",
    "txt = f.readlines()"
   ]
  },
  {
   "cell_type": "code",
   "execution_count": 3,
   "id": "opposite-ireland",
   "metadata": {
    "ExecuteTime": {
     "end_time": "2021-11-30T13:47:02.365691Z",
     "start_time": "2021-11-30T13:47:02.345761Z"
    }
   },
   "outputs": [
    {
     "data": {
      "text/plain": [
       "['5 10 3  4\\n', '8 7  49 19\\n', '6 10 9  28\\n', '6 10 39 289\\n']"
      ]
     },
     "execution_count": 3,
     "metadata": {},
     "output_type": "execute_result"
    }
   ],
   "source": [
    "txt"
   ]
  },
  {
   "cell_type": "code",
   "execution_count": 52,
   "id": "becoming-bidding",
   "metadata": {
    "ExecuteTime": {
     "end_time": "2021-11-30T14:05:13.052571Z",
     "start_time": "2021-11-30T14:05:13.033459Z"
    }
   },
   "outputs": [],
   "source": [
    "mtrx = []\n",
    "for i,line in enumerate(txt):\n",
    "    mtrx.append(line.split(' '))\n",
    "    for j,num in enumerate(mtrx[i]):\n",
    "        if num == '':\n",
    "            mtrx[i].pop(j)\n",
    "\n",
    "for i in range(len(mtrx)):\n",
    "    for j in range(len(mtrx[i])):\n",
    "        mtrx[i][j] = int(mtrx[i][j])\n",
    "matrix = np.asarray(mtrx)"
   ]
  },
  {
   "cell_type": "code",
   "execution_count": 53,
   "id": "native-arrest",
   "metadata": {
    "ExecuteTime": {
     "end_time": "2021-11-30T14:05:13.286778Z",
     "start_time": "2021-11-30T14:05:13.280771Z"
    }
   },
   "outputs": [
    {
     "data": {
      "text/plain": [
       "array([[  5,  10,   3,   4],\n",
       "       [  8,   7,  49,  19],\n",
       "       [  6,  10,   9,  28],\n",
       "       [  6,  10,  39, 289]])"
      ]
     },
     "execution_count": 53,
     "metadata": {},
     "output_type": "execute_result"
    }
   ],
   "source": [
    "matrix"
   ]
  },
  {
   "cell_type": "code",
   "execution_count": null,
   "id": "conscious-yacht",
   "metadata": {
    "ExecuteTime": {
     "end_time": "2021-11-30T14:05:01.737367Z",
     "start_time": "2021-11-30T14:05:01.730387Z"
    }
   },
   "outputs": [],
   "source": []
  },
  {
   "cell_type": "code",
   "execution_count": null,
   "id": "hindu-humanity",
   "metadata": {},
   "outputs": [],
   "source": []
  }
 ],
 "metadata": {
  "kernelspec": {
   "display_name": "Python 3",
   "language": "python",
   "name": "python3"
  },
  "language_info": {
   "codemirror_mode": {
    "name": "ipython",
    "version": 3
   },
   "file_extension": ".py",
   "mimetype": "text/x-python",
   "name": "python",
   "nbconvert_exporter": "python",
   "pygments_lexer": "ipython3",
   "version": "3.8.6"
  },
  "toc": {
   "base_numbering": 1,
   "nav_menu": {},
   "number_sections": true,
   "sideBar": true,
   "skip_h1_title": false,
   "title_cell": "Table of Contents",
   "title_sidebar": "Contents",
   "toc_cell": false,
   "toc_position": {},
   "toc_section_display": true,
   "toc_window_display": false
  },
  "varInspector": {
   "cols": {
    "lenName": 16,
    "lenType": 16,
    "lenVar": 40
   },
   "kernels_config": {
    "python": {
     "delete_cmd_postfix": "",
     "delete_cmd_prefix": "del ",
     "library": "var_list.py",
     "varRefreshCmd": "print(var_dic_list())"
    },
    "r": {
     "delete_cmd_postfix": ") ",
     "delete_cmd_prefix": "rm(",
     "library": "var_list.r",
     "varRefreshCmd": "cat(var_dic_list()) "
    }
   },
   "types_to_exclude": [
    "module",
    "function",
    "builtin_function_or_method",
    "instance",
    "_Feature"
   ],
   "window_display": false
  }
 },
 "nbformat": 4,
 "nbformat_minor": 5
}
