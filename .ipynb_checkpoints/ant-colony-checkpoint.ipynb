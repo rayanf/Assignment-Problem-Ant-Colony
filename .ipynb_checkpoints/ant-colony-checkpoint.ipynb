{
 "cells": [
  {
   "cell_type": "code",
   "execution_count": 1,
   "id": "legitimate-greenhouse",
   "metadata": {
    "ExecuteTime": {
     "end_time": "2021-12-01T14:16:21.833006Z",
     "start_time": "2021-12-01T14:16:21.129969Z"
    }
   },
   "outputs": [],
   "source": [
    "import numpy as np\n",
    "import math\n",
    "import random\n",
    "import matplotlib.pyplot as plt\n",
    "from copy import deepcopy\n"
   ]
  },
  {
   "cell_type": "code",
   "execution_count": 2,
   "id": "architectural-minnesota",
   "metadata": {
    "ExecuteTime": {
     "end_time": "2021-12-01T14:16:21.910233Z",
     "start_time": "2021-12-01T14:16:21.866916Z"
    }
   },
   "outputs": [],
   "source": [
    "def read_data(test):\n",
    "    path = \"job\"+str(test)+\".assign\"\n",
    "    f = open(path, \"r\")\n",
    "    txt = f.readlines()\n",
    "    mtrx = []\n",
    "    matrix = []\n",
    "    for i,line in enumerate(txt):\n",
    "        mtrx.append(line.split(' '))\n",
    "        matrix.append([])\n",
    "        for j,num in enumerate(mtrx[i]):\n",
    "            if num != '':\n",
    "                matrix[i].append(num)\n",
    "    if test == 1:\n",
    "        for i in range(len(matrix)):\n",
    "            for j in range(len(matrix[i])):\n",
    "                matrix[i][j] = int(matrix[i][j])\n",
    "    \n",
    "    elif test == 2 or test == 3:\n",
    "        for i in range(len(matrix)):\n",
    "            matrix[i].pop(-1)\n",
    "            for j in range(len(matrix[i])):\n",
    "                matrix[i][j] = int(matrix[i][j])\n",
    "    return matrix"
   ]
  },
  {
   "cell_type": "code",
   "execution_count": 3,
   "id": "golden-ultimate",
   "metadata": {
    "ExecuteTime": {
     "end_time": "2021-12-01T14:16:21.957398Z",
     "start_time": "2021-12-01T14:16:21.944648Z"
    }
   },
   "outputs": [],
   "source": [
    "class Ant:\n",
    "    def __init__(self):\n",
    "        self.path = []\n",
    "        self.cost = 0\n",
    "    \n",
    "    def reset(self):\n",
    "        self.path = []\n",
    "        self.cost = 0\n",
    "    "
   ]
  },
  {
   "cell_type": "code",
   "execution_count": 34,
   "id": "defined-abortion",
   "metadata": {
    "ExecuteTime": {
     "end_time": "2021-12-01T14:40:27.678717Z",
     "start_time": "2021-12-01T14:40:27.647785Z"
    }
   },
   "outputs": [],
   "source": [
    "class Colony:\n",
    "    def __init__(self, ant_num, matrix , base_formun, T_SA, SA_rate, beta, p_local, alpha, q_0):\n",
    "        self.n = len(matrix)\n",
    "        self.matrix = matrix\n",
    "        self.ant_num = ant_num\n",
    "        self.T = T_SA\n",
    "        self.beta = beta\n",
    "        self.alpha = alpha\n",
    "        self.p = p_local\n",
    "        self.base_formun = base_formun\n",
    "        self.q_0 = q_0\n",
    "        self.SA_rate = SA_rate\n",
    "\n",
    "        self.ants = []\n",
    "        for i in range(ant_num):\n",
    "            ant = Ant()\n",
    "            self.ants.append(ant)\n",
    "        \n",
    "            \n",
    "        \n",
    "        self.formun = [[0 for j in range(self.n)] for i in range(self.n)]\n",
    "        for i in range(self.n):\n",
    "            for j in range(self.n):\n",
    "                self.formun[i][j] = self.base_formun / self.matrix[i][j]\n",
    "        self.init_formun = self.formun.copy()\n",
    "    \n",
    "    \n",
    "    def training(self,itteration=100,print_itter = False):\n",
    "        his = []\n",
    "        his_path = []\n",
    "        for itter in range(itteration):\n",
    "#             print(itter,end=': ')\n",
    "            self.spread_ants()\n",
    "            self.formun = self.init_formun\n",
    "            self.T *= self.SA_rate\n",
    "            \n",
    "            for step in range(self.n - 1):\n",
    "                for ant in self.ants:\n",
    "                    self.move(ant)\n",
    "#                     self.local_update_formun(ant)\n",
    "            path, cost = self.find_best_path()\n",
    "            if print_itter == True:\n",
    "                print(cost)\n",
    "            temp_path = deepcopy(path)\n",
    "            temp_path = self.mutation(temp_path)\n",
    "            \n",
    "            delta = self.fitness(temp_path) - self.fitness(path)\n",
    "            if(delta < 0 or random.uniform(0, 1) < math.exp(-delta / self.T)):\n",
    "                path = temp_path\n",
    "                cost = self.fitness(temp_path)\n",
    "            self.global_update_formun(path,cost)\n",
    "            \n",
    "            \n",
    "            his.append(cost)\n",
    "            his_path.append(path)\n",
    "            for ant in self.ants:\n",
    "                ant.reset()\n",
    "        return his,his_path\n",
    "    \n",
    "    \n",
    "    def spread_ants(self):\n",
    "        nodes = list(range(self.n))\n",
    "        random.shuffle(nodes)\n",
    "        for i,ant in enumerate(self.ants):\n",
    "            if i < self.n:\n",
    "                ant.path.append(nodes[i])\n",
    "                ant.cost += self.matrix[0][nodes[i]]\n",
    "            else:\n",
    "                state = random.choice(list(range(self.n)))\n",
    "                ant.path.append(state)\n",
    "                ant.cost += self.matrix[0][state]\n",
    "\n",
    "\n",
    "\n",
    "    def local_update_formun(self,ant):\n",
    "        i = len(ant.path)-1\n",
    "        j = ant.path[-1]\n",
    "        \n",
    "#         delta = 0\n",
    "#         for z in range(self.n):\n",
    "#             if z != j and z != i:\n",
    "#                 temp = 0.7 * self.formun[j][z]\n",
    "#                 if temp > delta:\n",
    "#                     delta = temp\n",
    "        \n",
    "        delta = self.init_formun[i][j]\n",
    "\n",
    "        self.formun[i][j] = ((1-self.p)* self.formun[i][j]) + (self.p*(1/(delta)))\n",
    "\n",
    "    def find_best_path(self):\n",
    "        optima_path = []\n",
    "        best_cost = float('inf')\n",
    "        \n",
    "        for ant in self.ants:\n",
    "            if ant.cost < best_cost:\n",
    "                best_cost = ant.cost\n",
    "                optima_path = ant.path\n",
    "\n",
    "#         print(best_cost)\n",
    "#         print(optima_path)\n",
    "        return optima_path, best_cost\n",
    "\n",
    "    def global_update_formun(self,path,cost):\n",
    "        for i in range(self.n):\n",
    "            self.formun[i][path[i]] += (self.alpha*(cost**-1))\n",
    "                \n",
    "        for i in range(self.n):\n",
    "            for j in range(self.n):\n",
    "                self.formun[i][j] = (1-self.alpha)*self.formun[i][j] \n",
    "    \n",
    "    def select_next_node(self,ant):\n",
    "        q = random.random()\n",
    "        if q < self.q_0:\n",
    "            maxx = 0\n",
    "            selected = None\n",
    "            for node in range(self.n):\n",
    "                if not node in ant.path:\n",
    "                    rule = self.formun[len(ant.path)][node] * ((1/self.matrix[len(ant.path)][node])**self.beta)\n",
    "                    if rule > maxx:\n",
    "                        maxx = rule\n",
    "                        selected = node\n",
    "            return selected\n",
    "\n",
    "        else:\n",
    "            prob = [0 for i in range(self.n)]\n",
    "            summ = 0\n",
    "            for node in range(self.n):\n",
    "                if not node in ant.path:\n",
    "                    summ += self.formun[len(ant.path)][node] * ((1/self.matrix[len(ant.path)][node])**self.beta)\n",
    "\n",
    "            for node in range(self.n):\n",
    "                if not node in ant.path:\n",
    "                    prob[node] = (self.formun[len(ant.path)][node] * ((1/self.matrix[len(ant.path)][node])**self.beta))/summ\n",
    "                    a = random.choices(list(range(self.n)), prob, k=1)\n",
    "            return a[0]\n",
    "\n",
    "    def move(self,ant):\n",
    "        next_node = self.select_next_node(ant)\n",
    "        ant.cost += self.matrix[len(ant.path)][next_node]\n",
    "        ant.path.append(next_node)\n",
    "\n",
    "                \n",
    "    def mutation(self,path):\n",
    "        point_1, point_2 = random.sample(range(self.n), 2)\n",
    "        path[point_1] , path[point_2] = path[point_2] , path[point_1]\n",
    "        return path\n",
    "    \n",
    "    def fitness(self,path):\n",
    "        cost = 0\n",
    "        for i in range(self.n):\n",
    "            cost += self.matrix[i][path[i]]\n",
    "        return cost "
   ]
  },
  {
   "cell_type": "code",
   "execution_count": 39,
   "id": "insured-idaho",
   "metadata": {
    "ExecuteTime": {
     "end_time": "2021-12-01T14:43:08.240580Z",
     "start_time": "2021-12-01T14:42:52.307555Z"
    },
    "scrolled": false
   },
   "outputs": [
    {
     "name": "stdout",
     "output_type": "stream",
     "text": [
      "339\n",
      "[67, 11, 10, 74, 28, 44, 95, 56, 22, 43, 21, 30, 87, 97, 12, 84, 0, 60, 29, 26, 19, 72, 31, 24, 5, 9, 64, 88, 92, 46, 58, 77, 50, 98, 75, 35, 33, 55, 13, 71, 79, 18, 86, 48, 91, 3, 27, 99, 90, 25, 82, 45, 36, 20, 54, 89, 41, 37, 38, 52, 53, 14, 66, 59, 47, 65, 39, 62, 78, 7, 63, 94, 70, 23, 76, 4, 69, 42, 40, 68, 51, 80, 16, 17, 83, 8, 57, 49, 32, 73, 81, 6, 61, 1, 85, 2, 34, 96, 15, 93]\n"
     ]
    }
   ],
   "source": [
    "test = read_data(2)\n",
    "colony = Colony(ant_num = 20, \n",
    "                matrix = test ,\n",
    "                base_formun = 10, \n",
    "                T_SA = 1, \n",
    "                SA_rate = 0.9, \n",
    "                beta = 10, \n",
    "                p_local = 0.4, \n",
    "                alpha = 0.2,\n",
    "                q_0 = 0.7\n",
    "               )\n",
    "hist,his_path = colony.training(50)\n",
    "\n",
    "print(min(hist))\n",
    "print(his_path[hist.index(min(hist))])"
   ]
  },
  {
   "cell_type": "code",
   "execution_count": 40,
   "id": "experienced-festival",
   "metadata": {
    "ExecuteTime": {
     "end_time": "2021-12-01T14:43:10.731730Z",
     "start_time": "2021-12-01T14:43:10.620557Z"
    }
   },
   "outputs": [
    {
     "data": {
      "image/png": "[encoded data removed]",
      "text/plain": [
       "<Figure size 1080x360 with 1 Axes>"
      ]
     },
     "metadata": {
      "needs_background": "light"
     },
     "output_type": "display_data"
    },
    {
     "name": "stdout",
     "output_type": "stream",
     "text": [
      "339\n"
     ]
    }
   ],
   "source": [
    "fig = plt.figure(figsize=(15, 5))\n",
    "plt.grid(True)\n",
    "plt.plot(range(50), hist)\n",
    "plt.show()\n",
    "print(min(hist))"
   ]
  },
  {
   "cell_type": "code",
   "execution_count": 41,
   "id": "remarkable-gilbert",
   "metadata": {
    "ExecuteTime": {
     "end_time": "2021-12-01T14:43:41.395171Z",
     "start_time": "2021-12-01T14:43:41.377219Z"
    }
   },
   "outputs": [
    {
     "name": "stdout",
     "output_type": "stream",
     "text": [
      "26\n",
      "[3, 1, 2, 0]\n"
     ]
    }
   ],
   "source": [
    "test = read_data(1)\n",
    "colony = Colony(ant_num = 5, \n",
    "                matrix = test ,\n",
    "                base_formun = 10, \n",
    "                T_SA = 1, \n",
    "                SA_rate = 0.9, \n",
    "                beta = 10, \n",
    "                p_local = 0.4, \n",
    "                alpha = 0.2,\n",
    "                q_0 = 0.7)\n",
    "hist,his_path = colony.training(20)\n",
    "print(min(hist))\n",
    "print(his_path[hist.index(min(hist))])"
   ]
  },
  {
   "cell_type": "code",
   "execution_count": 45,
   "id": "greenhouse-depth",
   "metadata": {
    "ExecuteTime": {
     "end_time": "2021-12-01T14:51:30.537391Z",
     "start_time": "2021-12-01T14:49:24.081646Z"
    }
   },
   "outputs": [
    {
     "name": "stdout",
     "output_type": "stream",
     "text": [
      "711\n",
      "[10, 27, 93, 176, 14, 104, 129, 15, 21, 40, 110, 68, 158, 195, 115, 66, 83, 11, 169, 42, 77, 45, 140, 106, 41, 149, 154, 3, 94, 87, 147, 16, 175, 23, 179, 161, 30, 142, 146, 170, 159, 32, 183, 56, 34, 58, 18, 160, 92, 148, 72, 132, 112, 90, 33, 39, 122, 128, 166, 20, 187, 85, 116, 52, 62, 165, 131, 55, 114, 44, 103, 73, 64, 48, 194, 82, 86, 31, 75, 4, 101, 196, 108, 168, 50, 190, 1, 28, 65, 107, 12, 198, 199, 181, 38, 46, 76, 178, 80, 189, 102, 25, 51, 35, 136, 177, 182, 63, 138, 78, 29, 113, 84, 24, 120, 88, 172, 19, 156, 81, 47, 191, 37, 192, 126, 134, 135, 5, 193, 174, 71, 143, 67, 2, 117, 57, 173, 36, 144, 145, 17, 7, 186, 0, 137, 184, 98, 125, 22, 8, 157, 89, 163, 69, 171, 162, 141, 139, 118, 49, 127, 111, 97, 121, 43, 119, 124, 79, 150, 99, 155, 123, 53, 197, 96, 70, 6, 105, 91, 9, 151, 61, 109, 167, 185, 130, 152, 100, 164, 188, 74, 54, 13, 59, 95, 26, 180, 153, 133, 60]\n"
     ]
    }
   ],
   "source": [
    "test = read_data(3)\n",
    "colony = Colony(ant_num = 20, \n",
    "                matrix = test ,\n",
    "                base_formun = 10, \n",
    "                T_SA = 10, \n",
    "                SA_rate = 0.9, \n",
    "                beta = 10, \n",
    "                p_local = 0.4, \n",
    "                alpha = 0.2,\n",
    "                q_0 = 0.7)\n",
    "hist,his_path = colony.training(50)\n",
    "print(min(hist))\n",
    "print(his_path[hist.index(min(hist))])"
   ]
  },
  {
   "cell_type": "code",
   "execution_count": 48,
   "id": "silver-parks",
   "metadata": {
    "ExecuteTime": {
     "end_time": "2021-12-01T14:57:09.336528Z",
     "start_time": "2021-12-01T14:54:30.731648Z"
    }
   },
   "outputs": [
    {
     "name": "stdout",
     "output_type": "stream",
     "text": [
      "744\n",
      "[59, 27, 93, 176, 14, 104, 122, 15, 21, 40, 110, 128, 158, 195, 115, 174, 83, 11, 173, 120, 77, 45, 140, 106, 48, 69, 125, 3, 94, 87, 147, 16, 175, 23, 179, 72, 30, 142, 146, 170, 159, 32, 183, 56, 34, 58, 18, 160, 92, 68, 178, 132, 112, 103, 33, 39, 13, 181, 51, 20, 187, 85, 116, 52, 62, 165, 131, 55, 114, 44, 188, 31, 64, 29, 194, 82, 86, 81, 88, 4, 101, 196, 108, 168, 78, 190, 73, 28, 65, 107, 12, 198, 154, 6, 38, 53, 166, 99, 80, 189, 102, 25, 61, 35, 136, 148, 182, 63, 138, 134, 139, 113, 84, 24, 150, 67, 172, 133, 156, 41, 47, 191, 37, 192, 126, 10, 137, 5, 193, 143, 71, 109, 149, 2, 117, 57, 79, 1, 144, 145, 17, 7, 186, 0, 135, 184, 98, 169, 22, 8, 157, 89, 19, 111, 36, 162, 46, 163, 118, 76, 127, 129, 90, 121, 43, 177, 171, 66, 54, 49, 155, 123, 42, 197, 96, 70, 50, 105, 91, 9, 151, 60, 124, 167, 185, 161, 152, 100, 164, 119, 74, 75, 141, 199, 95, 26, 180, 153, 97, 130]\n"
     ]
    }
   ],
   "source": [
    "test = read_data(3)\n",
    "colony = Colony(ant_num = 20, \n",
    "                matrix = test ,\n",
    "                base_formun = 10, \n",
    "                T_SA = 10, \n",
    "                SA_rate = 0.9, \n",
    "                beta = 10, \n",
    "                p_local = 0.4, \n",
    "                alpha = 0.2,\n",
    "                q_0 = 0.7)\n",
    "hist,his_path = colony.training(50)\n",
    "print(min(hist))\n",
    "print(his_path[hist.index(min(hist))])"
   ]
  },
  {
   "cell_type": "code",
   "execution_count": 47,
   "id": "expanded-forestry",
   "metadata": {
    "ExecuteTime": {
     "end_time": "2021-12-01T14:53:01.365284Z",
     "start_time": "2021-12-01T14:53:00.939637Z"
    }
   },
   "outputs": [
    {
     "data": {
      "image/png": "[encoded data removed]",
      "text/plain": [
       "<Figure size 1080x360 with 1 Axes>"
      ]
     },
     "metadata": {
      "needs_background": "light"
     },
     "output_type": "display_data"
    },
    {
     "name": "stdout",
     "output_type": "stream",
     "text": [
      "711\n"
     ]
    }
   ],
   "source": [
    "fig = plt.figure(figsize=(15, 5))\n",
    "plt.grid(True)\n",
    "plt.plot(range(50), hist)\n",
    "plt.show()\n",
    "print(min(hist))"
   ]
  },
  {
   "cell_type": "code",
   "execution_count": null,
   "id": "upper-brief",
   "metadata": {},
   "outputs": [],
   "source": []
  }
 ],
 "metadata": {
  "kernelspec": {
   "display_name": "Python 3",
   "language": "python",
   "name": "python3"
  },
  "language_info": {
   "codemirror_mode": {
    "name": "ipython",
    "version": 3
   },
   "file_extension": ".py",
   "mimetype": "text/x-python",
   "name": "python",
   "nbconvert_exporter": "python",
   "pygments_lexer": "ipython3",
   "version": "3.8.6"
  },
  "toc": {
   "base_numbering": 1,
   "nav_menu": {},
   "number_sections": true,
   "sideBar": true,
   "skip_h1_title": false,
   "title_cell": "Table of Contents",
   "title_sidebar": "Contents",
   "toc_cell": false,
   "toc_position": {},
   "toc_section_display": true,
   "toc_window_display": false
  },
  "varInspector": {
   "cols": {
    "lenName": 16,
    "lenType": 16,
    "lenVar": 40
   },
   "kernels_config": {
    "python": {
     "delete_cmd_postfix": "",
     "delete_cmd_prefix": "del ",
     "library": "var_list.py",
     "varRefreshCmd": "print(var_dic_list())"
    },
    "r": {
     "delete_cmd_postfix": ") ",
     "delete_cmd_prefix": "rm(",
     "library": "var_list.r",
     "varRefreshCmd": "cat(var_dic_list()) "
    }
   },
   "position": {
    "height": "101.85px",
    "left": "1255px",
    "right": "20px",
    "top": "81px",
    "width": "265px"
   },
   "types_to_exclude": [
    "module",
    "function",
    "builtin_function_or_method",
    "instance",
    "_Feature"
   ],
   "window_display": true
  }
 },
 "nbformat": 4,
 "nbformat_minor": 5
}
